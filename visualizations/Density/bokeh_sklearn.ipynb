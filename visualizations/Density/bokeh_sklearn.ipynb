{
 "cells": [
  {
   "cell_type": "code",
   "execution_count": 1,
   "metadata": {},
   "outputs": [],
   "source": [
    "from sklearn.neighbors import KernelDensity\n",
    "from sklearn.model_selection import GridSearchCV\n",
    "import numpy as np\n",
    "from bokeh.plotting import figure, show\n",
    "from bokeh.models import BoxSelectTool, Circle, CustomJS, ColumnDataSource\n",
    "from bokeh.io import output_notebook\n",
    "import pandas as pd"
   ]
  },
  {
   "cell_type": "code",
   "execution_count": 2,
   "metadata": {},
   "outputs": [],
   "source": [
    "### BASIC DATA PROCESSING\n",
    "fname = 'GephiMatrix_co-citation.csv'\n",
    "f = open(fname, 'r')\n",
    "\n",
    "# Get author names\n",
    "line1 = f.readline()\n",
    "names = line1[1:].split(';');\n",
    "\n",
    "seen = {}\n",
    "dupes = []\n",
    "\n",
    "for index, name in enumerate(names):\n",
    "    if name not in seen:\n",
    "        seen[name] = 1\n",
    "    else:\n",
    "        if seen[name] == 1:\n",
    "            dupes.append((index, name))\n",
    "        seen[name] += 1\n",
    "\n",
    "# add 1, 2 etc after the name\n",
    "for pair in dupes:\n",
    "    index = pair[0]\n",
    "    name = pair[1]\n",
    "    for i in range(seen[name]):\n",
    "        names[index] = name + str((i+1))\n",
    "        #print(names[index])\n",
    "\n",
    "# Read csv\n",
    "df = pd.read_csv(f, names=names, sep=';')\n",
    "\n",
    "# Fix it\n",
    "df = df.reset_index(level=1)\n",
    "names.append(\"delete\")\n",
    "names = [name.replace('_', ' ') for name in names]\n",
    "df.columns = names\n",
    "del df[\"delete\"]\n",
    "df.set_index([df.columns], inplace=True)\n",
    "\n",
    "# Get names again for later use\n",
    "names = df.columns.tolist()"
   ]
  },
  {
   "cell_type": "code",
   "execution_count": 3,
   "metadata": {},
   "outputs": [],
   "source": [
    "### BASIC DEGREE COUNTING\n",
    "\n",
    "deg = []\n",
    "\n",
    "N = len(names)\n",
    "for name in names:\n",
    "    deg.append([df[name][df[name] > 0].count()])"
   ]
  },
  {
   "cell_type": "code",
   "execution_count": 4,
   "metadata": {},
   "outputs": [],
   "source": [
    "\n",
    "deg_plot = np.linspace(-max(deg)[0]/30, max(deg)+max(deg)[0]/30, 1000)\n"
   ]
  },
  {
   "cell_type": "code",
   "execution_count": 5,
   "metadata": {},
   "outputs": [
    {
     "name": "stdout",
     "output_type": "stream",
     "text": [
      "{'bandwidth': 5.831578947368421}\n"
     ]
    },
    {
     "data": {
      "text/plain": [
       "4.853022575378418"
      ]
     },
     "execution_count": 5,
     "metadata": {},
     "output_type": "execute_result"
    }
   ],
   "source": [
    "import time\n",
    "start = time.time()\n",
    "grid = GridSearchCV(KernelDensity(),\n",
    "                    {'bandwidth': np.linspace(0.1, 10.0, 20)},\n",
    "                    cv=5,\n",
    "                    iid=False) # 5-fold cross-validation\n",
    "grid.fit(deg)\n",
    "print(grid.best_params_)\n",
    "time.time()-start"
   ]
  },
  {
   "cell_type": "code",
   "execution_count": 6,
   "metadata": {},
   "outputs": [],
   "source": [
    "kde = grid.best_estimator_\n",
    "#kde = KernelDensity(kernel=\"gaussian\", bandwidth=5.3).fit(deg)\n",
    "log_dens = kde.score_samples(deg_plot)"
   ]
  },
  {
   "cell_type": "code",
   "execution_count": 8,
   "metadata": {},
   "outputs": [],
   "source": [
    "X = np.append(deg_plot[:, 0], deg_plot[:, 0][-1])\n",
    "X = np.insert(X, 0, X[0])"
   ]
  },
  {
   "cell_type": "code",
   "execution_count": 9,
   "metadata": {},
   "outputs": [],
   "source": [
    "Y = np.append(np.exp(log_dens), 0)\n",
    "Y = np.insert(Y, 0, 0)"
   ]
  },
  {
   "cell_type": "code",
   "execution_count": 10,
   "metadata": {},
   "outputs": [
    {
     "ename": "NameError",
     "evalue": "name 'mXs' is not defined",
     "output_type": "error",
     "traceback": [
      "\u001b[1;31m---------------------------------------------------------------------------\u001b[0m",
      "\u001b[1;31mNameError\u001b[0m                                 Traceback (most recent call last)",
      "\u001b[1;32m<ipython-input-10-02691dca0b38>\u001b[0m in \u001b[0;36m<module>\u001b[1;34m\u001b[0m\n\u001b[0;32m      2\u001b[0m \u001b[0mbefore\u001b[0m \u001b[1;33m=\u001b[0m \u001b[0mColumnDataSource\u001b[0m\u001b[1;33m(\u001b[0m\u001b[0mdata\u001b[0m\u001b[1;33m=\u001b[0m\u001b[0mdict\u001b[0m\u001b[1;33m(\u001b[0m\u001b[0mx\u001b[0m\u001b[1;33m=\u001b[0m\u001b[1;33m[\u001b[0m\u001b[1;33m]\u001b[0m\u001b[1;33m,\u001b[0m \u001b[0my\u001b[0m\u001b[1;33m=\u001b[0m\u001b[1;33m[\u001b[0m\u001b[1;33m]\u001b[0m\u001b[1;33m)\u001b[0m\u001b[1;33m)\u001b[0m\u001b[1;33m\u001b[0m\u001b[1;33m\u001b[0m\u001b[0m\n\u001b[0;32m      3\u001b[0m \u001b[0mmiddle\u001b[0m \u001b[1;33m=\u001b[0m \u001b[0mColumnDataSource\u001b[0m\u001b[1;33m(\u001b[0m\u001b[0mdata\u001b[0m\u001b[1;33m=\u001b[0m\u001b[0mdict\u001b[0m\u001b[1;33m(\u001b[0m\u001b[0mx\u001b[0m\u001b[1;33m=\u001b[0m\u001b[0mX\u001b[0m\u001b[1;33m,\u001b[0m \u001b[0my\u001b[0m\u001b[1;33m=\u001b[0m\u001b[0mY\u001b[0m\u001b[1;33m)\u001b[0m\u001b[1;33m)\u001b[0m\u001b[1;33m\u001b[0m\u001b[1;33m\u001b[0m\u001b[0m\n\u001b[1;32m----> 4\u001b[1;33m \u001b[0mmiddle\u001b[0m \u001b[1;33m=\u001b[0m \u001b[0mmXs\u001b[0m\u001b[1;33m[\u001b[0m\u001b[1;36m0\u001b[0m\u001b[1;33m]\u001b[0m\u001b[1;33m\u001b[0m\u001b[1;33m\u001b[0m\u001b[0m\n\u001b[0m\u001b[0;32m      5\u001b[0m \u001b[0mmYs\u001b[0m\u001b[1;33m.\u001b[0m\u001b[0munshift\u001b[0m\u001b[1;33m(\u001b[0m\u001b[1;36m0\u001b[0m\u001b[1;33m)\u001b[0m\u001b[1;33m\u001b[0m\u001b[1;33m\u001b[0m\u001b[0m\n\u001b[0;32m      6\u001b[0m \u001b[0mmXs\u001b[0m\u001b[1;33m.\u001b[0m\u001b[0mpush\u001b[0m\u001b[1;33m(\u001b[0m\u001b[0mmXs\u001b[0m\u001b[1;33m[\u001b[0m\u001b[0mmXs\u001b[0m\u001b[1;33m.\u001b[0m\u001b[0mlength\u001b[0m\u001b[1;33m-\u001b[0m\u001b[1;36m1\u001b[0m\u001b[1;33m]\u001b[0m\u001b[1;33m)\u001b[0m\u001b[1;33m\u001b[0m\u001b[1;33m\u001b[0m\u001b[0m\n",
      "\u001b[1;31mNameError\u001b[0m: name 'mXs' is not defined"
     ]
    }
   ],
   "source": [
    "complete = ColumnDataSource(data=dict(x=X, y=Y))\n",
    "before = ColumnDataSource(data=dict(x=[], y=[]))\n",
    "middle = ColumnDataSource(data=dict(x=X, y=Y))\n",
    "middle = mXs[0]\n",
    "mYs.unshift(0)\n",
    "mXs.push(mXs[mXs.length-1])\n",
    "mYs[mYs.length] = 0\n",
    "after = ColumnDataSource(data=dict(x=[], y=[]))\n",
    "\n",
    "geometry_callback = CustomJS(args=dict(complete=complete, before=before, middle=middle, after=after, degrees=[item for sublist in deg for item in sublist]), code=\"\"\"\n",
    "let p = document.getElementById('between')\n",
    "let geometry = cb_data[\"geometry\"]\n",
    "\n",
    "if(!p){\n",
    "  p = document.createElement(\"p\")\n",
    "  p.id = \"between\"\n",
    "  document.getElementsByClassName(\"bk-root\")[0].appendChild(p)\n",
    "}\n",
    "\n",
    "\n",
    "let Xs = complete.data.x\n",
    "let Ys = complete.data.y\n",
    "\n",
    "let bXs = before.data.x\n",
    "let bYs = before.data.y\n",
    "bXs = []\n",
    "bYs = []\n",
    "let mXs = middle.data.x\n",
    "let mYs = middle.data.y\n",
    "mXs = []\n",
    "mYs = []\n",
    "let aXs = after.data.x\n",
    "let aYs = after.data.y\n",
    "aXs = []\n",
    "aYs = []\n",
    "\n",
    "for (let i = 0; i < Xs.length; i++){\n",
    "  // should use binary search\n",
    "  let x = Xs[i]\n",
    "  let y = Ys[i]\n",
    "  if(x < geometry.x0){\n",
    "    bXs.push(x)\n",
    "    bYs.push(y)\n",
    "  }\n",
    "  else if (x > geometry.x1){\n",
    "    aXs.push(x)\n",
    "    aYs.push(y)\n",
    "  }\n",
    "  else {\n",
    "    mXs.push(x)\n",
    "    mYs.push(y)\n",
    "  }\n",
    "}\n",
    "\n",
    "bXs.unshift(bXs[0])\n",
    "bYs.unshift(0)\n",
    "bXs.push(bXs[bXs.length-1])\n",
    "bYs[bYs.length] = 0\n",
    "mXs.unshift(mXs[0])\n",
    "mYs.unshift(0)\n",
    "mXs.push(mXs[mXs.length-1])\n",
    "mYs[mYs.length] = 0\n",
    "aXs.unshift(aXs[0])\n",
    "aYs.unshift(0)\n",
    "aXs.push(aXs[aXs.length-1])\n",
    "aYs[aYs.length] = 0\n",
    "\n",
    "before.data.x = bXs\n",
    "before.data.y = bYs\n",
    "middle.data.x = mXs\n",
    "middle.data.y = mYs\n",
    "after.data.x = aXs\n",
    "after.data.y = aYs\n",
    "\n",
    "before.change.emit()\n",
    "middle.change.emit()\n",
    "after.change.emit()\n",
    "\n",
    "let amount = 0\n",
    "for (let i = 0; i < degrees.length; i++){\n",
    "  if (degrees[i] >= geometry.x0 && degrees[i] <= geometry.x1){\n",
    "    amount++;\n",
    "  }\n",
    "}\n",
    "\n",
    "colored_amount = \"<span style='color:red; font-weight:bold'>\" + amount + \"</span>\"\n",
    "    if (amount < 600){\n",
    "    colored_amount = \"<span style='color:orange; font-weight:bold'>\" + amount + \"</span>\"\n",
    "    }\n",
    "    if (amount < 150){\n",
    "    colored_amount = \"<span style='color:green; font-weight:bold'>\" + amount + \"</span>\"\n",
    "    }\n",
    "\n",
    "p.innerHTML = \"Selected \" + colored_amount + \" nodes with degree between \" + Math.ceil(geometry.x0) + \" and \" + Math.floor(geometry.x1) + \".\"\n",
    "\"\"\")"
   ]
  },
  {
   "cell_type": "code",
   "execution_count": null,
   "metadata": {},
   "outputs": [],
   "source": [
    "output_notebook()\n",
    "\n",
    "p = figure(plot_width=700, plot_height=700)\n",
    "\n",
    "select_tool = BoxSelectTool(dimensions=\"width\", callback=geometry_callback)\n",
    "p.add_tools(select_tool)\n",
    "\n",
    "p.patch(\"x\", \"y\", source=before, alpha=0.3, line_width=0)\n",
    "p.patch(\"x\", \"y\", source=middle, alpha=1, line_width=0, color=\"orange\")\n",
    "p.patch(\"x\", \"y\", source=after, alpha=0.3, line_width=0)\n",
    "\n",
    "p.xaxis.axis_label = \"Degree\"\n",
    "p.yaxis.visible = False\n",
    "p.grid.visible = False\n",
    "\n",
    "p.toolbar.active_drag = select_tool\n",
    "p.toolbar.autohide = True\n",
    "\n",
    "show(p)"
   ]
  },
  {
   "cell_type": "code",
   "execution_count": null,
   "metadata": {},
   "outputs": [],
   "source": []
  }
 ],
 "metadata": {
  "kernelspec": {
   "display_name": "Python 3",
   "language": "python",
   "name": "python3"
  },
  "language_info": {
   "codemirror_mode": {
    "name": "ipython",
    "version": 3
   },
   "file_extension": ".py",
   "mimetype": "text/x-python",
   "name": "python",
   "nbconvert_exporter": "python",
   "pygments_lexer": "ipython3",
   "version": "3.6.8"
  }
 },
 "nbformat": 4,
 "nbformat_minor": 2
}
